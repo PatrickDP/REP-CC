{
 "cells": [
  {
   "cell_type": "markdown",
   "id": "b5fa38ef",
   "metadata": {},
   "source": [
    "# <font style=\"color:green\">Trabalho da Disciplina de Processamento Digital de Imagens (Primeira Parte)</font>\n",
    "\n",
    "O presente trabalho visa demonstrar a montagem de uma de um tabuleiro de xadrez, e a manipulação da cor branca, utilizando as bibliotecas numpy e matplotlib.\n",
    "\n",
    "# <font style=\"color:green\">Documentações</font>\n",
    "\n",
    "* Numpy: https://numpy.org/doc/stable/\n",
    "* Matplotlib: https://matplotlib.org/3.5.1/index.html\n"
   ]
  },
  {
   "cell_type": "markdown",
   "id": "33ef16cf",
   "metadata": {
    "heading_collapsed": true
   },
   "source": [
    "## <font style=\"color:green\">Importando <i>libraries </i></font>"
   ]
  },
  {
   "cell_type": "code",
   "execution_count": 15,
   "id": "475f0c8f",
   "metadata": {
    "hidden": true
   },
   "outputs": [],
   "source": [
    "import numpy as np\n",
    "import matplotlib.pyplot as plt"
   ]
  },
  {
   "cell_type": "markdown",
   "id": "1e33b6c7",
   "metadata": {
    "heading_collapsed": true
   },
   "source": [
    "## <font style=\"color:green\">Declarando variáveis x, y</font>"
   ]
  },
  {
   "cell_type": "code",
   "execution_count": 16,
   "id": "4ecb68e3",
   "metadata": {
    "hidden": true
   },
   "outputs": [],
   "source": [
    "# Responsáveis pelas dimensões 10x10 pix de cada quadrado preto ou branco\n",
    "x, y = 10, 10"
   ]
  },
  {
   "cell_type": "markdown",
   "id": "a229b013",
   "metadata": {
    "heading_collapsed": true
   },
   "source": [
    "## <font style=\"color:green\">Declarando variáveis B, W</font>"
   ]
  },
  {
   "cell_type": "code",
   "execution_count": 17,
   "id": "f9731e57",
   "metadata": {
    "hidden": true
   },
   "outputs": [],
   "source": [
    "# São criados 2 respectivos arrays composto por 0's (para cor preta) e 1's (para cor branca)\n",
    "W = np.ones((x, y))\n",
    "B = np.zeros((x, y))"
   ]
  },
  {
   "cell_type": "markdown",
   "id": "f24b10c8",
   "metadata": {
    "heading_collapsed": true
   },
   "source": [
    "## ## <font style=\"color:green\">Criando os padrões <i>White Black</i> e <i>Black White</i></font>"
   ]
  },
  {
   "cell_type": "code",
   "execution_count": 18,
   "id": "d2bbee90",
   "metadata": {
    "hidden": true,
    "scrolled": true
   },
   "outputs": [
    {
     "data": {
      "image/png": "[encoded data removed]",
      "text/plain": [
       "<Figure size 432x288 with 1 Axes>"
      ]
     },
     "metadata": {
      "needs_background": "light"
     },
     "output_type": "display_data"
    }
   ],
   "source": [
    "# Concatenação do arrays W, B e em seguida é exibido o padrão Black White\n",
    "WB = np.c_[B, W]\n",
    "plt.imshow(WB, cmap= \"binary\", vmin = 0, vmax = 1)\n",
    "plt.show()"
   ]
  },
  {
   "cell_type": "code",
   "execution_count": 19,
   "id": "386111c2",
   "metadata": {
    "hidden": true
   },
   "outputs": [
    {
     "data": {
      "image/png": "[encoded data removed]",
      "text/plain": [
       "<Figure size 432x288 with 1 Axes>"
      ]
     },
     "metadata": {
      "needs_background": "light"
     },
     "output_type": "display_data"
    }
   ],
   "source": [
    "# Concatenação do arrays B, W e exibição do padrão White Black\n",
    "BW = np.c_[W, B]\n",
    "plt.imshow(BW, cmap= \"binary\", vmin = 0, vmax = 1)\n",
    "plt.show()"
   ]
  },
  {
   "cell_type": "markdown",
   "id": "3b8388d1",
   "metadata": {
    "heading_collapsed": true
   },
   "source": [
    "## <font style=\"color:green\">Criação do padrão de repetição de 5 quadrados <i>White Black</i> e <i>Black White</i></font>"
   ]
  },
  {
   "cell_type": "code",
   "execution_count": 20,
   "id": "18e355e8",
   "metadata": {
    "hidden": true,
    "scrolled": true
   },
   "outputs": [
    {
     "data": {
      "image/png": "[encoded data removed]",
      "text/plain": [
       "<Figure size 432x288 with 1 Axes>"
      ]
     },
     "metadata": {
      "needs_background": "light"
     },
     "output_type": "display_data"
    }
   ],
   "source": [
    "# Criando o padrão de repetição de 5 quadrados WB_tiled e exibição\n",
    "WB_tiled = np.tile(WB, 5)\n",
    "plt.imshow(WB_tiled, cmap= \"binary\", vmin = 0, vmax = 1)\n",
    "plt.show()"
   ]
  },
  {
   "cell_type": "code",
   "execution_count": 21,
   "id": "bc07936d",
   "metadata": {
    "hidden": true
   },
   "outputs": [
    {
     "data": {
      "image/png": "[encoded data removed]",
      "text/plain": [
       "<Figure size 432x288 with 1 Axes>"
      ]
     },
     "metadata": {
      "needs_background": "light"
     },
     "output_type": "display_data"
    }
   ],
   "source": [
    "# Criando o padrão de repetição de 5 quadrados BW_tiled e exibição\n",
    "BW_tiled = np.tile(BW, 5)\n",
    "plt.imshow(BW_tiled, cmap= \"binary\", vmin = 0, vmax = 1)\n",
    "plt.show()"
   ]
  },
  {
   "cell_type": "markdown",
   "id": "2255c325",
   "metadata": {
    "heading_collapsed": true
   },
   "source": [
    "## <font style=\"color:green\">Criação do Tabuleiro de Xadrez </font>"
   ]
  },
  {
   "cell_type": "code",
   "execution_count": 22,
   "id": "496843a1",
   "metadata": {
    "hidden": true,
    "scrolled": true
   },
   "outputs": [
    {
     "data": {
      "image/png": "[encoded data removed]",
      "text/plain": [
       "<Figure size 432x288 with 1 Axes>"
      ]
     },
     "metadata": {
      "needs_background": "light"
     },
     "output_type": "display_data"
    }
   ],
   "source": [
    "# Os padrões WB_tiled e BW_tiled são verticalmente contatenado e em seguida horizontalmente concatenados\n",
    "WB_BW = np.vstack((WB_tiled, BW_tiled))\n",
    "chessPattern = np.tile(WB_BW, (5,1))\n",
    "# Exibição\n",
    "plt.imshow(chessPattern, cmap= \"binary\", vmin = 0, vmax = 1)\n",
    "plt.show()"
   ]
  },
  {
   "cell_type": "markdown",
   "id": "df79c490",
   "metadata": {
    "heading_collapsed": true
   },
   "source": [
    "## <font style=\"color:green\">Manipulação de cor dos quadrados brancos do Tabuleiro de Xadrez</font>"
   ]
  },
  {
   "cell_type": "code",
   "execution_count": 23,
   "id": "e2fab32a",
   "metadata": {
    "hidden": true
   },
   "outputs": [
    {
     "data": {
      "image/png": "[encoded data removed]",
      "text/plain": [
       "<Figure size 432x288 with 1 Axes>"
      ]
     },
     "metadata": {
      "needs_background": "light"
     },
     "output_type": "display_data"
    }
   ],
   "source": [
    "# chessPattern é convertido para um int de 8 bits para que possa ser trabalho com a escala de cinzas\n",
    "chessPattern = np.array(chessPattern, dtype = np.uint8)\n",
    "# Utilizamos o método where para procurar quaisquer valor do array igual 1 (branco) e substituir para 127 (cinza)\n",
    "chessPattern[np.where(chessPattern == 1)] = 127\n",
    "# Exibição do tabuleiro de xadrez agora com quadrados cinzas\n",
    "plt.imshow(chessPattern, cmap= \"gray\", vmin = 0, vmax = 255)\n",
    "plt.show()"
   ]
  },
  {
   "cell_type": "code",
   "execution_count": null,
   "id": "fe12c447",
   "metadata": {
    "hidden": true
   },
   "outputs": [],
   "source": []
  },
  {
   "cell_type": "markdown",
   "id": "04693424",
   "metadata": {
    "heading_collapsed": true
   },
   "source": [
    "## <font style=\"color:green\">Mudança de dimensão do Tabuleiro de Xadrez para 3 dimensões</font>"
   ]
  },
  {
   "cell_type": "code",
   "execution_count": 24,
   "id": "5f07bd16",
   "metadata": {
    "hidden": true
   },
   "outputs": [],
   "source": [
    "# Redeclaração do array chessPatter\n",
    "chessPattern = np.array(chessPattern, dtype=np.uint8, order='F')\n",
    "# utilização do método resize para remodelar a dimensão de chessPattern como uma matriz com 3 canais para trabalhar com RGB\n",
    "chessPattern.resize(x * 10, y * 10, 3)"
   ]
  },
  {
   "cell_type": "markdown",
   "id": "95242525",
   "metadata": {
    "heading_collapsed": true
   },
   "source": [
    "## <font style=\"color:green\">Declaração de variáveis que correspondem as cores em RGB</font>"
   ]
  },
  {
   "cell_type": "code",
   "execution_count": 25,
   "id": "13e63012",
   "metadata": {
    "hidden": true
   },
   "outputs": [],
   "source": [
    "# Branco\n",
    "white = [255, 255, 255]\n",
    "# Vermelho\n",
    "red = [255, 0, 0]\n",
    "# Verde\n",
    "green = [0, 255, 0]\n",
    "# Azul\n",
    "blue = [0, 0, 255]\n",
    "# Amarelo\n",
    "yellow = [255, 255, 0]\n",
    "# Magenta\n",
    "magenta = [255, 0, 255]"
   ]
  },
  {
   "cell_type": "markdown",
   "id": "a4207e1a",
   "metadata": {
    "heading_collapsed": true
   },
   "source": [
    "## <font style=\"color:green\">Declaração das variaveís que corresponderá a novos tabuleiros de xadrez</font>"
   ]
  },
  {
   "cell_type": "code",
   "execution_count": 26,
   "id": "3c4e6d64",
   "metadata": {
    "hidden": true
   },
   "outputs": [],
   "source": [
    "# Inicialmente, as variaveís recebem o array que corresponde ao chessPattern original\n",
    "chessPattern_red = np.array(chessPattern, dtype=np.uint8)\n",
    "chessPattern_green = np.array(chessPattern, dtype=np.uint8)\n",
    "chessPattern_blue = np.array(chessPattern, dtype=np.uint8)\n",
    "chessPattern_yellow = np.array(chessPattern, dtype=np.uint8)\n",
    "chessPattern_magenta = np.array(chessPattern, dtype=np.uint8)"
   ]
  },
  {
   "cell_type": "markdown",
   "id": "8f383573",
   "metadata": {
    "heading_collapsed": true
   },
   "source": [
    "## <font style=\"color:green\">Declaração das variavéis mascaras de cores e modificação das cores</font>"
   ]
  },
  {
   "cell_type": "code",
   "execution_count": 27,
   "id": "daf1dc97",
   "metadata": {
    "hidden": true
   },
   "outputs": [],
   "source": [
    "# Como o chessPattern sofreu com a modificação de seus valores 1's para 127's, as variavéis auxiliares receberão\n",
    "# os valores 127 do array chessPattern par auxíliar na mudança decor\n",
    "white_mask = green_mask = red_mask = blue_mask = yellow_mask = magenta_mask = chessPattern[:, :, 0] == 127\n",
    "\n",
    "# O array chessPattern recebendo como indice as variáveis auxíliares receberão os valores em RGB das cores anteriormente\n",
    "# descritas\n",
    "chessPattern[white_mask] = white\n",
    "chessPattern_red[red_mask] = red\n",
    "chessPattern_green[green_mask] = green\n",
    "chessPattern_blue[blue_mask] = blue\n",
    "chessPattern_yellow[yellow_mask] = yellow\n",
    "chessPattern_magenta[magenta_mask] = magenta"
   ]
  },
  {
   "cell_type": "markdown",
   "id": "5e3ba1de",
   "metadata": {
    "heading_collapsed": true
   },
   "source": [
    "## <font style=\"color:green\">Exibição dos tabuleiros</font>"
   ]
  },
  {
   "cell_type": "code",
   "execution_count": 28,
   "id": "7dddbb00",
   "metadata": {
    "hidden": true
   },
   "outputs": [
    {
     "data": {
      "image/png": "[encoded data removed]",
      "text/plain": [
       "<Figure size 432x288 with 6 Axes>"
      ]
     },
     "metadata": {
      "needs_background": "light"
     },
     "output_type": "display_data"
    }
   ],
   "source": [
    "# Utiliza-se o método subplot para que a exibição conjunta dos arrays\n",
    "# chess pattern seja feita\n",
    "# Utiliza-se o método title par exibir os títulos\n",
    "\n",
    "plt.subplot(2, 3, 1)\n",
    "plt.title(\"White\")\n",
    "plt.imshow(chessPattern, vmin = 0, vmax = 255)\n",
    "\n",
    "plt.subplot(2, 3, 2)\n",
    "plt.title(\"Red\")\n",
    "plt.imshow(chessPattern_red, vmin = 0, vmax = 255)\n",
    "\n",
    "plt.subplot(2, 3, 3)\n",
    "plt.title(\"Green\")\n",
    "plt.imshow(chessPattern_green, vmin = 0, vmax = 255)\n",
    "\n",
    "plt.subplot(2, 3, 4)\n",
    "plt.title(\"Blue\")\n",
    "plt.imshow(chessPattern_blue, vmin = 0, vmax = 255)\n",
    "\n",
    "plt.subplot(2, 3, 5)\n",
    "plt.title(\"Yellow\")\n",
    "plt.imshow(chessPattern_yellow, vmin = 0, vmax = 255)\n",
    "\n",
    "plt.subplot(2, 3, 6)\n",
    "plt.title(\"Magenta\")\n",
    "plt.imshow(chessPattern_magenta, vmin = 0, vmax = 255)\n",
    "\n",
    "# Exibição\n",
    "plt.show()"
   ]
  }
 ],
 "metadata": {
  "kernelspec": {
   "display_name": "Python 3 (ipykernel)",
   "language": "python",
   "name": "python3"
  },
  "language_info": {
   "codemirror_mode": {
    "name": "ipython",
    "version": 3
   },
   "file_extension": ".py",
   "mimetype": "text/x-python",
   "name": "python",
   "nbconvert_exporter": "python",
   "pygments_lexer": "ipython3",
   "version": "3.9.7"
  },
  "latex_envs": {
   "LaTeX_envs_menu_present": true,
   "autoclose": false,
   "autocomplete": true,
   "bibliofile": "biblio.bib",
   "cite_by": "apalike",
   "current_citInitial": 1,
   "eqLabelWithNumbers": true,
   "eqNumInitial": 1,
   "hotkeys": {
    "equation": "Ctrl-E",
    "itemize": "Ctrl-I"
   },
   "labels_anchors": false,
   "latex_user_defs": false,
   "report_style_numbering": false,
   "user_envs_cfg": false
  },
  "toc": {
   "base_numbering": 1,
   "nav_menu": {},
   "number_sections": true,
   "sideBar": true,
   "skip_h1_title": false,
   "title_cell": "Table of Contents",
   "title_sidebar": "Contents",
   "toc_cell": false,
   "toc_position": {},
   "toc_section_display": true,
   "toc_window_display": false
  },
  "varInspector": {
   "cols": {
    "lenName": 16,
    "lenType": 16,
    "lenVar": 40
   },
   "kernels_config": {
    "python": {
     "delete_cmd_postfix": "",
     "delete_cmd_prefix": "del ",
     "library": "var_list.py",
     "varRefreshCmd": "print(var_dic_list())"
    },
    "r": {
     "delete_cmd_postfix": ") ",
     "delete_cmd_prefix": "rm(",
     "library": "var_list.r",
     "varRefreshCmd": "cat(var_dic_list()) "
    }
   },
   "types_to_exclude": [
    "module",
    "function",
    "builtin_function_or_method",
    "instance",
    "_Feature"
   ],
   "window_display": false
  }
 },
 "nbformat": 4,
 "nbformat_minor": 5
}
